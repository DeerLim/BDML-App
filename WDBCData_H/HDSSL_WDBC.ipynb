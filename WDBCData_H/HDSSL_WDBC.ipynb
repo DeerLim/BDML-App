{
  "nbformat": 4,
  "nbformat_minor": 0,
  "metadata": {
    "colab": {
      "name": "HDSSL_WDBC.ipynb",
      "provenance": [],
      "collapsed_sections": []
    },
    "kernelspec": {
      "name": "python3",
      "display_name": "Python 3"
    },
    "language_info": {
      "name": "python"
    }
  },
  "cells": [
    {
      "cell_type": "code",
      "metadata": {
        "id": "ymTj_ntc7W5R"
      },
      "source": [
        "# !pip install docplex\n",
        "# !pip install qiskit"
      ],
      "execution_count": 1209,
      "outputs": []
    },
    {
      "cell_type": "code",
      "metadata": {
        "id": "a0myHRyk7kkm"
      },
      "source": [
        "import numpy as np\n",
        "import pandas as pd\n",
        "import matplotlib.pyplot as plt\n",
        "from scipy.sparse.csgraph import laplacian\n",
        "import copy"
      ],
      "execution_count": 1210,
      "outputs": []
    },
    {
      "cell_type": "code",
      "metadata": {
        "id": "69GccziF7tn8"
      },
      "source": [
        "# Reading data from 5 nodes\n",
        "df1 = pd.read_excel('/content/drive/MyDrive/Colab Notebooks/MLdata/WDBCData/node1.xlsx')\n",
        "df2 = pd.read_excel('/content/drive/MyDrive/Colab Notebooks/MLdata/WDBCData/node2.xlsx')\n",
        "df3 = pd.read_excel('/content/drive/MyDrive/Colab Notebooks/MLdata/WDBCData/node3.xlsx')\n",
        "df4 = pd.read_excel('/content/drive/MyDrive/Colab Notebooks/MLdata/WDBCData/node4.xlsx')\n",
        "df5 = pd.read_excel('/content/drive/MyDrive/Colab Notebooks/MLdata/WDBCData/node5.xlsx')\n",
        "\n",
        "# df1 = pd.read_excel('./node1.xlsx')\n",
        "# df2 = pd.read_excel('./node2.xlsx')\n",
        "# df3 = pd.read_excel('./node3.xlsx')\n",
        "# df4 = pd.read_excel('./node4.xlsx')\n",
        "# df5 = pd.read_excel('./node5.xlsx')"
      ],
      "execution_count": 1211,
      "outputs": []
    },
    {
      "cell_type": "code",
      "metadata": {
        "colab": {
          "base_uri": "https://localhost:8080/"
        },
        "id": "5szNbXu-765J",
        "outputId": "9571be3f-c4f2-40b0-95d6-5cf02227bd06"
      },
      "source": [
        "df1.shape, df2.shape, df3.shape, df4.shape, df5.shape"
      ],
      "execution_count": 1212,
      "outputs": [
        {
          "output_type": "execute_result",
          "data": {
            "text/plain": [
              "((114, 31), (114, 31), (114, 31), (114, 31), (113, 31))"
            ]
          },
          "metadata": {
            "tags": []
          },
          "execution_count": 1212
        }
      ]
    },
    {
      "cell_type": "code",
      "metadata": {
        "id": "HUfS68oX7-vU"
      },
      "source": [
        "node1 = np.asmatrix(df1)\n",
        "node2 = np.asmatrix(df2)\n",
        "node3 = np.asmatrix(df3)\n",
        "node4 = np.asmatrix(df4)\n",
        "node5 = np.asmatrix(df5)"
      ],
      "execution_count": 1213,
      "outputs": []
    },
    {
      "cell_type": "code",
      "metadata": {
        "id": "uQ65W7Qp8BZh"
      },
      "source": [
        "np.random.shuffle(node1)\n",
        "np.random.shuffle(node2)\n",
        "np.random.shuffle(node3)\n",
        "np.random.shuffle(node4)\n",
        "np.random.shuffle(node5)\n",
        "\n",
        "train_node1 = node1\n",
        "train_node2 = node2\n",
        "train_node3 = node3\n",
        "train_node4 = node4\n",
        "train_node5 = node5\n"
      ],
      "execution_count": 1214,
      "outputs": []
    },
    {
      "cell_type": "code",
      "metadata": {
        "id": "QHWjHjSaL329"
      },
      "source": [
        "ry1, ry2, ry3, ry4, ry5 = copy.deepcopy(node1[:,30]), copy.deepcopy(node2[:,30]), copy.deepcopy(node3[:,30]), copy.deepcopy(node4[:,30]), copy.deepcopy(node5[:,30])"
      ],
      "execution_count": 1215,
      "outputs": []
    },
    {
      "cell_type": "code",
      "metadata": {
        "id": "ZpBiJu5o8Ec_"
      },
      "source": [
        "# parameters setting\n",
        "y_size = 100  #numbers of y_i\n",
        "lamda = 10^(-3)\n",
        "eta = 10^(-4)\n",
        "rho = 10^(-3)\n",
        "L = 50"
      ],
      "execution_count": 1216,
      "outputs": []
    },
    {
      "cell_type": "code",
      "metadata": {
        "id": "7vVJAeoJ8vCw"
      },
      "source": [
        "for i in range(y_size, len(train_node1)):\n",
        "  train_node1[i,30] = 0\n",
        "  train_node2[i,30] = 0\n",
        "  train_node3[i,30] = 0\n",
        "  train_node4[i,30] = 0\n",
        "\n",
        "for i in range(y_size, len(train_node5)):\n",
        "  train_node5[i,30] = 0"
      ],
      "execution_count": 1217,
      "outputs": []
    },
    {
      "cell_type": "code",
      "metadata": {
        "id": "AvUOcfGF80Xh"
      },
      "source": [
        "H1, H2, H3, H4, H5 = train_node1[:,0:30], train_node2[:,0:30], train_node3[:,0:30], train_node4[:,0:30], train_node5[:,0:30]\n",
        "y1, y2, y3, y4, y5 = train_node1[:,30], train_node2[:,30], train_node3[:,30], train_node4[:,30], train_node5[:,30]\n",
        "I = np.identity(30)\n",
        "C = np.zeros((114, 114))\n",
        "C5 = np.zeros((113, 113))\n",
        "L1, L2, L3, L4, L5 = laplacian(H1.dot(H1.transpose()), normed=True), laplacian(H2.dot(H2.transpose()), normed=True), laplacian(H3.dot(H3.transpose()), normed=True), laplacian(H4.dot(H4.transpose()), normed=True), laplacian(H5.dot(H5.transpose()), normed=True)\n",
        "\n",
        "for i in range(0,y_size+1):\n",
        "  C[i,i]=1\n",
        "  C5[i,i]=1"
      ],
      "execution_count": 1218,
      "outputs": []
    },
    {
      "cell_type": "code",
      "metadata": {
        "colab": {
          "base_uri": "https://localhost:8080/"
        },
        "id": "rrV0Wcwj9aI8",
        "outputId": "91678c25-d01b-4d36-a544-7746681b4713"
      },
      "source": [
        "H1.shape, y1.shape, I.shape, C.shape, C5.shape, L1.shape, ry1.shape"
      ],
      "execution_count": 1219,
      "outputs": [
        {
          "output_type": "execute_result",
          "data": {
            "text/plain": [
              "((114, 30), (114, 1), (30, 30), (114, 114), (113, 113), (114, 114), (114, 1))"
            ]
          },
          "metadata": {
            "tags": []
          },
          "execution_count": 1219
        }
      ]
    },
    {
      "cell_type": "code",
      "metadata": {
        "id": "5X5samrn9gr7"
      },
      "source": [
        "temp1 = H1.transpose().dot(C).dot(H1) + eta * H1.transpose().dot(L1).dot(H1) + lamda * I\n",
        "temp2 = H2.transpose().dot(C).dot(H2) + eta * H2.transpose().dot(L2).dot(H2) + lamda * I\n",
        "temp3 = H3.transpose().dot(C).dot(H3) + eta * H3.transpose().dot(L3).dot(H3) + lamda * I\n",
        "temp4 = H4.transpose().dot(C).dot(H4) + eta * H4.transpose().dot(L4).dot(H4) + lamda * I\n",
        "temp5 = H5.transpose().dot(C5).dot(H5) + eta * H5.transpose().dot(L5).dot(H5) + lamda * I"
      ],
      "execution_count": 1220,
      "outputs": []
    },
    {
      "cell_type": "code",
      "metadata": {
        "id": "q_w4fKBC9mjW"
      },
      "source": [
        "P1_inv, P2_inv, P3_inv, P4_inv, P5_inv = np.linalg.inv(temp1), np.linalg.inv(temp2), np.linalg.inv(temp3), np.linalg.inv(temp4), np.linalg.inv(temp5)"
      ],
      "execution_count": 1221,
      "outputs": []
    },
    {
      "cell_type": "code",
      "metadata": {
        "id": "PwGRtINP9rRe"
      },
      "source": [
        "z = np.zeros((30,1))\n",
        "r1, r2, r3, r4, r5 = np.zeros((30,1)), np.zeros((30,1)), np.zeros((30,1)), np.zeros((30,1)), np.zeros((30,1))\n",
        "for i in range(0,L):\n",
        "  #update wi\n",
        "  w1 = P1_inv.dot(H1.transpose().dot(C).dot(y1) - r1 + rho*z)\n",
        "  w2 = P2_inv.dot(H2.transpose().dot(C).dot(y2) - r2 + rho*z)\n",
        "  w3 = P3_inv.dot(H3.transpose().dot(C).dot(y3) - r3 + rho*z)\n",
        "  w4 = P4_inv.dot(H4.transpose().dot(C).dot(y4) - r4 + rho*z)\n",
        "  w5 = P5_inv.dot(H5.transpose().dot(C5).dot(y5) - r5 + rho*z)\n",
        "\n",
        "  #update z\n",
        "  z = 5*((w1 + w2 + w3 + w4 + w5)*rho/5 + (r1 + r2 + r3 + r4 + r5)/5)/(lamda + 5*rho)\n",
        "\n",
        "  #update ri\n",
        "  r1 = r1 + rho*(w1 - z)\n",
        "  r2 = r2 + rho*(w2 - z)\n",
        "  r3 = r3 + rho*(w3 - z)\n",
        "  r4 = r4 + rho*(w4 - z)\n",
        "  r5 = r5 + rho*(w5 - z)\n",
        "\n"
      ],
      "execution_count": 1222,
      "outputs": []
    },
    {
      "cell_type": "code",
      "metadata": {
        "id": "8Xtn7KbXCz2m"
      },
      "source": [
        "y1_hat, y2_hat, y3_hat, y4_hat, y5_hat = np.zeros((114,1)), np.zeros((114,1)), np.zeros((114,1)), np.zeros((114,1)), np.zeros((113,1)),"
      ],
      "execution_count": 1223,
      "outputs": []
    },
    {
      "cell_type": "code",
      "metadata": {
        "id": "Q9YR7cVK96CI"
      },
      "source": [
        "for i in range(len(H1)):\n",
        "  if H1.dot(z)[i] > 1.5:\n",
        "    y1_hat[i] = 2\n",
        "  else:\n",
        "    y1_hat[i] = 1\n",
        "\n",
        "for i in range(len(H2)):\n",
        "  if H2.dot(z)[i] > 1.5:\n",
        "    y2_hat[i] = 2\n",
        "  else:\n",
        "    y2_hat[i] = 1\n",
        "\n",
        "for i in range(len(H3)):\n",
        "  if H3.dot(z)[i] > 1.5:\n",
        "    y3_hat[i] = 2\n",
        "  else:\n",
        "    y3_hat[i] = 1\n",
        "\n",
        "for i in range(len(H4)):\n",
        "  if H4.dot(z)[i] > 1.5:\n",
        "    y4_hat[i] = 2\n",
        "  else:\n",
        "    y4_hat[i] = 1\n",
        "\n",
        "for i in range(len(H5)):\n",
        "  if H5.dot(z)[i] > 1.5:\n",
        "    y5_hat[i] = 2\n",
        "  else:\n",
        "    y5_hat[i] = 1"
      ],
      "execution_count": 1224,
      "outputs": []
    },
    {
      "cell_type": "code",
      "metadata": {
        "id": "7oPUJkj4AlWL"
      },
      "source": [
        "error1 = np.linalg.norm(y1_hat-ry1, 1)\n",
        "\n",
        "error2 = np.linalg.norm(y2_hat-ry2, 1)\n",
        "\n",
        "error3 = np.linalg.norm(y3_hat-ry3, 1)\n",
        "\n",
        "error4 = np.linalg.norm(y4_hat-ry4, 1)\n",
        "\n",
        "error5 = np.linalg.norm(y5_hat-ry5, 1)"
      ],
      "execution_count": 1225,
      "outputs": []
    },
    {
      "cell_type": "code",
      "metadata": {
        "colab": {
          "base_uri": "https://localhost:8080/"
        },
        "id": "ZT3p2mYgA1Bo",
        "outputId": "c192ead0-8b2d-4fdc-e730-0783d4d7b3a0"
      },
      "source": [
        "error_rate = 100*(error1 + error2 + error3 + error4 + error5)/669\n",
        "error_rate"
      ],
      "execution_count": 1226,
      "outputs": [
        {
          "output_type": "execute_result",
          "data": {
            "text/plain": [
              "10.911808669656203"
            ]
          },
          "metadata": {
            "tags": []
          },
          "execution_count": 1226
        }
      ]
    }
  ]
}