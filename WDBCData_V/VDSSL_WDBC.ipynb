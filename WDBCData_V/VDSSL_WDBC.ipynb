{
  "nbformat": 4,
  "nbformat_minor": 0,
  "metadata": {
    "colab": {
      "name": "VDSSL_WDBC.ipynb",
      "provenance": [],
      "collapsed_sections": []
    },
    "kernelspec": {
      "name": "python3",
      "display_name": "Python 3"
    },
    "language_info": {
      "name": "python"
    }
  },
  "cells": [
    {
      "cell_type": "code",
      "metadata": {
        "id": "7EAE5iNBDGGC"
      },
      "source": [
        "# !pip install docplex\n",
        "# !pip install qiskit"
      ],
      "execution_count": 704,
      "outputs": []
    },
    {
      "cell_type": "code",
      "metadata": {
        "id": "qi31TvL8EOVB"
      },
      "source": [
        "import numpy as np\n",
        "import pandas as pd\n",
        "import matplotlib.pyplot as plt\n",
        "from scipy.sparse.csgraph import laplacian\n",
        "import copy"
      ],
      "execution_count": 705,
      "outputs": []
    },
    {
      "cell_type": "code",
      "metadata": {
        "id": "tXrUcLn0ERTc"
      },
      "source": [
        "###주소 변경\n",
        "df = pd.read_csv('/content/drive/MyDrive/Colab Notebooks/MLdata/WDBCdata_V/wdbc.csv')\n",
        "\n",
        "# df = pd.read_csv('./wdbc.csv')\n"
      ],
      "execution_count": 706,
      "outputs": []
    },
    {
      "cell_type": "code",
      "metadata": {
        "colab": {
          "base_uri": "https://localhost:8080/"
        },
        "id": "5d9HR-t2EUye",
        "outputId": "35fedd73-400f-4cf3-d81f-726c5d48b484"
      },
      "source": [
        "df.shape"
      ],
      "execution_count": 707,
      "outputs": [
        {
          "output_type": "execute_result",
          "data": {
            "text/plain": [
              "(569, 31)"
            ]
          },
          "metadata": {
            "tags": []
          },
          "execution_count": 707
        }
      ]
    },
    {
      "cell_type": "code",
      "metadata": {
        "id": "-CieVK20EWsn"
      },
      "source": [
        "#df matrix로 변환\n",
        "df = np.asmatrix(df)"
      ],
      "execution_count": 708,
      "outputs": []
    },
    {
      "cell_type": "code",
      "metadata": {
        "id": "l3pIkNDLEYlM"
      },
      "source": [
        "#node들 섞어줌\n",
        "#np.random.seed(3)\n",
        "np.random.shuffle(df)"
      ],
      "execution_count": 709,
      "outputs": []
    },
    {
      "cell_type": "code",
      "metadata": {
        "id": "P5gvTytXEYcf"
      },
      "source": [
        "#섞어서 train node 만듦\n",
        "train_node1 = df[:,0:6]\n",
        "train_node2 = df[:,6:12]\n",
        "train_node3 = df[:,12:18]\n",
        "train_node4 = df[:,18:24]\n",
        "train_node5 = df[:,24:30]\n",
        "ry = copy.deepcopy(df[:,30])"
      ],
      "execution_count": 710,
      "outputs": []
    },
    {
      "cell_type": "code",
      "metadata": {
        "id": "MpjqzG_FEa90"
      },
      "source": [
        "# parameters setting\n",
        "\n",
        "y_size = 260  #numbers of y_i\n",
        "lamda = 10^(-2)\n",
        "eta = 10^(-4)\n",
        "rho = 10^(-3)\n",
        "L = 50"
      ],
      "execution_count": 711,
      "outputs": []
    },
    {
      "cell_type": "code",
      "metadata": {
        "id": "Qr7adtkDEkOr"
      },
      "source": [
        "## len하면 행의 개수 나옴\n",
        "y = copy.deepcopy(ry)\n",
        "for i in range(y_size, len(ry)):\n",
        "  y[i] = 0"
      ],
      "execution_count": 712,
      "outputs": []
    },
    {
      "cell_type": "code",
      "metadata": {
        "id": "WQGjPsnmEubU"
      },
      "source": [
        "#Hi, Li 설정하기\n",
        "H1, H2, H3, H4, H5 = train_node1, train_node2, train_node3, train_node4, train_node5\n",
        "I = np.identity(569)\n",
        "I_L = np.identity(6)\n",
        "C = np.zeros((569, 569))\n",
        "for i in range(0, y_size+1):\n",
        "  C[i,i]=1"
      ],
      "execution_count": 713,
      "outputs": []
    },
    {
      "cell_type": "code",
      "metadata": {
        "id": "_IQsrXgyEvxz"
      },
      "source": [
        "L1, L2, L3, L4, L5 = laplacian(H1.dot(H1.transpose()), normed=True), laplacian(H2.dot(H2.transpose()), normed=True), laplacian(H3.dot(H3.transpose()), normed=True), laplacian(H4.dot(H4.transpose()), normed=True), laplacian(H5.dot(H5.transpose()), normed=True)"
      ],
      "execution_count": 714,
      "outputs": []
    },
    {
      "cell_type": "code",
      "metadata": {
        "colab": {
          "base_uri": "https://localhost:8080/"
        },
        "id": "HRyJj1OOEzrU",
        "outputId": "4cfdc89f-8124-4a62-e66e-24ec1db23b80"
      },
      "source": [
        "H1.shape, y.shape, I.shape, L1.shape, ry.shape, C.shape"
      ],
      "execution_count": 715,
      "outputs": [
        {
          "output_type": "execute_result",
          "data": {
            "text/plain": [
              "((569, 6), (569, 1), (569, 569), (569, 569), (569, 1), (569, 569))"
            ]
          },
          "metadata": {
            "tags": []
          },
          "execution_count": 715
        }
      ]
    },
    {
      "cell_type": "code",
      "metadata": {
        "id": "E_MkEuJPE0W6"
      },
      "source": [
        "temp1 = H1.transpose().dot(H1) + eta/rho * H1.transpose().dot(L1).dot(H1) + lamda/rho * I_L\n",
        "temp2 = H2.transpose().dot(H2) + eta/rho * H2.transpose().dot(L2).dot(H2) + lamda/rho * I_L\n",
        "temp3 = H3.transpose().dot(H3) + eta/rho * H3.transpose().dot(L3).dot(H3) + lamda/rho * I_L\n",
        "temp4 = H4.transpose().dot(H4) + eta/rho * H4.transpose().dot(L4).dot(H4) + lamda/rho * I_L\n",
        "temp5 = H5.transpose().dot(H5) + eta/rho * H5.transpose().dot(L5).dot(H5) + lamda/rho * I_L"
      ],
      "execution_count": 716,
      "outputs": []
    },
    {
      "cell_type": "code",
      "metadata": {
        "id": "QHppRCqUE2UX"
      },
      "source": [
        "Q1_inv, Q2_inv, Q3_inv, Q4_inv, Q5_inv = np.linalg.inv(temp1), np.linalg.inv(temp2), np.linalg.inv(temp3), np.linalg.inv(temp4), np.linalg.inv(temp5)"
      ],
      "execution_count": 717,
      "outputs": []
    },
    {
      "cell_type": "code",
      "metadata": {
        "id": "wlteFGuEE8Qr"
      },
      "source": [
        "z_bar= np.zeros((569,1))\n",
        "u = np.zeros((569,1))\n",
        "y_bar = np.zeros((569,1))\n",
        "w1, w2, w3, w4, w5 = np.ones((6,1)), np.ones((6,1)), np.ones((6,1)), np.ones((6,1)), np.ones((6,1))"
      ],
      "execution_count": 718,
      "outputs": []
    },
    {
      "cell_type": "code",
      "metadata": {
        "id": "6mnQJDmrE-b4"
      },
      "source": [
        "for i in range(0,L):\n",
        "  #update wi\n",
        "  w1 = Q1_inv.dot(H1.transpose()).dot(H1.dot(w1) + z_bar - y_bar - u)\n",
        "  w2 = Q2_inv.dot(H2.transpose()).dot(H2.dot(w2) + z_bar - y_bar - u)\n",
        "  w3 = Q3_inv.dot(H3.transpose()).dot(H3.dot(w3) + z_bar - y_bar - u)\n",
        "  w4 = Q4_inv.dot(H4.transpose()).dot(H4.dot(w4) + z_bar - y_bar - u)\n",
        "  w5 = Q5_inv.dot(H5.transpose()).dot(H5.dot(w5) + z_bar - y_bar - u)\n",
        "\n",
        "  #update y_bar\n",
        "  y_bar = (H1.dot(w1)+H2.dot(w2)+H3.dot(w3)+H4.dot(w4)+H5.dot(w5))/5\n",
        "\n",
        "  #update z_bar\n",
        "  z_bar = np.linalg.inv((5*C+ rho*I)).dot(C.dot(y) + rho*y_bar + rho*u)\n",
        "\n",
        "  #update u\n",
        "  u = u + y_bar - z_bar\n"
      ],
      "execution_count": 719,
      "outputs": []
    },
    {
      "cell_type": "code",
      "metadata": {
        "id": "HV6mxO_JFCsM"
      },
      "source": [
        "y_hat = (H1.dot(w1) + H2.dot(w2) + H3.dot(w3) + H4.dot(w4) + H5.dot(w5))/5"
      ],
      "execution_count": 720,
      "outputs": []
    },
    {
      "cell_type": "code",
      "metadata": {
        "id": "a8LycdrEW_kG"
      },
      "source": [
        "y_hat = (y_hat-min(y_hat))/(max(y_hat)-min(y_hat)) + 1"
      ],
      "execution_count": 721,
      "outputs": []
    },
    {
      "cell_type": "code",
      "metadata": {
        "id": "G2lJBmAnXg1f"
      },
      "source": [
        "for i in range(0, len(y_hat)):\n",
        "  if y_hat[i] > 1.5:\n",
        "    y_hat[i] = 2\n",
        "  else:\n",
        "    y_hat[i] = 1"
      ],
      "execution_count": 722,
      "outputs": []
    },
    {
      "cell_type": "code",
      "metadata": {
        "colab": {
          "base_uri": "https://localhost:8080/"
        },
        "id": "Ia1KFlhBFG4v",
        "outputId": "e265cdee-06d7-4d13-8454-d4fb60605c64"
      },
      "source": [
        "error_rate = 100*(np.linalg.norm(y_hat - ry, 1))/569\n",
        "error_rate"
      ],
      "execution_count": 723,
      "outputs": [
        {
          "output_type": "execute_result",
          "data": {
            "text/plain": [
              "29.876977152899823"
            ]
          },
          "metadata": {
            "tags": []
          },
          "execution_count": 723
        }
      ]
    }
  ]
}