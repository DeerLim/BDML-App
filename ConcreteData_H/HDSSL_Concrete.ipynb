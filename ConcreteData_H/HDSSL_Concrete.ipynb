{
  "nbformat": 4,
  "nbformat_minor": 0,
  "metadata": {
    "colab": {
      "name": "HDSSL_Concrete.ipynb",
      "provenance": [],
      "collapsed_sections": []
    },
    "kernelspec": {
      "name": "python3",
      "display_name": "Python 3"
    },
    "language_info": {
      "name": "python"
    }
  },
  "cells": [
    {
      "cell_type": "code",
      "metadata": {
        "id": "AsDQMmDyHLcx"
      },
      "source": [
        "# !pip install docplex\n",
        "# !pip install qiskit"
      ],
      "execution_count": 1788,
      "outputs": []
    },
    {
      "cell_type": "code",
      "metadata": {
        "id": "gg5RAxZaEEYL"
      },
      "source": [
        "import numpy as np\n",
        "import pandas as pd\n",
        "import matplotlib.pyplot as plt\n",
        "from scipy.sparse.csgraph import laplacian\n",
        "import copy"
      ],
      "execution_count": 1789,
      "outputs": []
    },
    {
      "cell_type": "code",
      "metadata": {
        "id": "xUaXI_n2FYHq"
      },
      "source": [
        "# Reading data from 5 nodes\n",
        "df1 = pd.read_excel('/content/drive/MyDrive/Colab Notebooks/MLdata/ConcreteData/node1.xlsx')\n",
        "df2 = pd.read_excel('/content/drive/MyDrive/Colab Notebooks/MLdata/ConcreteData/node2.xlsx')\n",
        "df3 = pd.read_excel('/content/drive/MyDrive/Colab Notebooks/MLdata/ConcreteData/node3.xlsx')\n",
        "df4 = pd.read_excel('/content/drive/MyDrive/Colab Notebooks/MLdata/ConcreteData/node4.xlsx')\n",
        "df5 = pd.read_excel('/content/drive/MyDrive/Colab Notebooks/MLdata/ConcreteData/node5.xlsx')\n",
        "\n",
        "# df1 = pd.read_excel('./node1.xlsx')\n",
        "# df2 = pd.read_excel('./node2.xlsx')\n",
        "# df3 = pd.read_excel('./node3.xlsx')\n",
        "# df4 = pd.read_excel('./node4.xlsx')\n",
        "# df5 = pd.read_excel('./node5.xlsx')\n"
      ],
      "execution_count": 1790,
      "outputs": []
    },
    {
      "cell_type": "code",
      "metadata": {
        "colab": {
          "base_uri": "https://localhost:8080/"
        },
        "id": "TgXQNJdtNe5h",
        "outputId": "42f5fe04-2bb5-4643-f537-99045b254265"
      },
      "source": [
        "df1.shape, df2.shape, df3.shape, df4.shape, df5.shape"
      ],
      "execution_count": 1791,
      "outputs": [
        {
          "output_type": "execute_result",
          "data": {
            "text/plain": [
              "((206, 9), (206, 9), (206, 9), (206, 9), (206, 9))"
            ]
          },
          "metadata": {
            "tags": []
          },
          "execution_count": 1791
        }
      ]
    },
    {
      "cell_type": "code",
      "metadata": {
        "id": "UoMQcq7lzgiD"
      },
      "source": [
        "node1 = np.asmatrix(df1)\n",
        "node2 = np.asmatrix(df2)\n",
        "node3 = np.asmatrix(df3)\n",
        "node4 = np.asmatrix(df4)\n",
        "node5 = np.asmatrix(df5)"
      ],
      "execution_count": 1792,
      "outputs": []
    },
    {
      "cell_type": "code",
      "metadata": {
        "id": "RxJCKhiqxvk7"
      },
      "source": [
        "np.random.shuffle(node1)\n",
        "np.random.shuffle(node2)\n",
        "np.random.shuffle(node3)\n",
        "np.random.shuffle(node4)\n",
        "np.random.shuffle(node5)\n",
        "\n",
        "train_node1 = node1\n",
        "train_node2 = node2\n",
        "train_node3 = node3\n",
        "train_node4 = node4\n",
        "train_node5 = node5\n"
      ],
      "execution_count": 1793,
      "outputs": []
    },
    {
      "cell_type": "code",
      "metadata": {
        "id": "IkRBg7JMQayh"
      },
      "source": [
        "ry1, ry2, ry3, ry4, ry5 = copy.deepcopy(node1[:,8]), copy.deepcopy(node2[:,8]), copy.deepcopy(node3[:,8]), copy.deepcopy(node4[:,8]), copy.deepcopy(node5[:,8])"
      ],
      "execution_count": 1794,
      "outputs": []
    },
    {
      "cell_type": "code",
      "metadata": {
        "id": "FgddlPoALRJi"
      },
      "source": [
        "# parameters setting\n",
        "y_size = 80  #numbers of y_i\n",
        "lamda = 10^(-4)\n",
        "eta = 10^(-5)\n",
        "rho = 10^(-4)\n",
        "L = 50\n"
      ],
      "execution_count": 1795,
      "outputs": []
    },
    {
      "cell_type": "code",
      "metadata": {
        "id": "IANApwj2Qz7Y"
      },
      "source": [
        "for i in range(y_size, len(train_node1)):\n",
        "  train_node1[i,8] = 0\n",
        "  train_node2[i,8] = 0\n",
        "  train_node3[i,8] = 0\n",
        "  train_node4[i,8] = 0\n",
        "  train_node5[i,8] = 0"
      ],
      "execution_count": 1796,
      "outputs": []
    },
    {
      "cell_type": "code",
      "metadata": {
        "id": "sDqxAvB6UFFg"
      },
      "source": [
        "H1, H2, H3, H4, H5 = train_node1[:,0:8], train_node2[:,0:8], train_node3[:,0:8], train_node4[:,0:8], train_node5[:,0:8]\n",
        "y1, y2, y3, y4, y5 = train_node1[:,8], train_node2[:,8], train_node3[:,8], train_node4[:,8], train_node5[:,8]\n",
        "I = np.identity(8)\n",
        "C = np.zeros((206, 206))\n",
        "L1, L2, L3, L4, L5 = laplacian(H1.dot(H1.transpose()), normed=True), laplacian(H2.dot(H2.transpose()), normed=True), laplacian(H3.dot(H3.transpose()), normed=True), laplacian(H4.dot(H4.transpose()), normed=True), laplacian(H5.dot(H5.transpose()), normed=True)\n",
        "\n",
        "for i in range(0,y_size+1):\n",
        "  C[i,i]=1"
      ],
      "execution_count": 1797,
      "outputs": []
    },
    {
      "cell_type": "code",
      "metadata": {
        "colab": {
          "base_uri": "https://localhost:8080/"
        },
        "id": "WF9_93OcU6OM",
        "outputId": "ed5ba2d5-8c1b-4cff-cf47-480fba287de0"
      },
      "source": [
        "H1.shape, y1.shape, I.shape, C.shape, L1.shape, ry1.shape"
      ],
      "execution_count": 1798,
      "outputs": [
        {
          "output_type": "execute_result",
          "data": {
            "text/plain": [
              "((206, 8), (206, 1), (8, 8), (206, 206), (206, 206), (206, 1))"
            ]
          },
          "metadata": {
            "tags": []
          },
          "execution_count": 1798
        }
      ]
    },
    {
      "cell_type": "code",
      "metadata": {
        "id": "QAj010fdae1i"
      },
      "source": [
        "temp1 = H1.transpose().dot(C).dot(H1) + eta * H1.transpose().dot(L1).dot(H1) + lamda * I\n",
        "temp2 = H2.transpose().dot(C).dot(H2) + eta * H2.transpose().dot(L2).dot(H2) + lamda * I\n",
        "temp3 = H3.transpose().dot(C).dot(H3) + eta * H3.transpose().dot(L3).dot(H3) + lamda * I\n",
        "temp4 = H4.transpose().dot(C).dot(H4) + eta * H4.transpose().dot(L4).dot(H4) + lamda * I\n",
        "temp5 = H5.transpose().dot(C).dot(H5) + eta * H5.transpose().dot(L5).dot(H5) + lamda * I"
      ],
      "execution_count": 1799,
      "outputs": []
    },
    {
      "cell_type": "code",
      "metadata": {
        "id": "6U94SxXXdqDY"
      },
      "source": [
        "P1_inv, P2_inv, P3_inv, P4_inv, P5_inv = np.linalg.inv(temp1), np.linalg.inv(temp2), np.linalg.inv(temp3), np.linalg.inv(temp4), np.linalg.inv(temp5)"
      ],
      "execution_count": 1800,
      "outputs": []
    },
    {
      "cell_type": "code",
      "metadata": {
        "id": "8eeMFkC-kyxp"
      },
      "source": [
        "z = np.zeros((8,1))\n",
        "r1, r2, r3, r4, r5 = np.zeros((8,1)), np.zeros((8,1)), np.zeros((8,1)), np.zeros((8,1)), np.zeros((8,1))\n",
        "for i in range(0,L):\n",
        "  #update wi\n",
        "  w1 = P1_inv.dot(H1.transpose().dot(C).dot(y1) - r1 + rho*z)\n",
        "  w2 = P2_inv.dot(H2.transpose().dot(C).dot(y2) - r2 + rho*z)\n",
        "  w3 = P3_inv.dot(H3.transpose().dot(C).dot(y3) - r3 + rho*z)\n",
        "  w4 = P4_inv.dot(H4.transpose().dot(C).dot(y4) - r4 + rho*z)\n",
        "  w5 = P5_inv.dot(H5.transpose().dot(C).dot(y5) - r5 + rho*z)\n",
        "\n",
        "  #update z\n",
        "  z = 5*((w1 + w2 + w3 + w4 + w5)*rho/5 + (r1 + r2 + r3 + r4 + r5)/5)/(lamda + 5*rho)\n",
        "\n",
        "  #update ri\n",
        "  r1 = r1 + rho*(w1 - z)\n",
        "  r2 = r2 + rho*(w2 - z)\n",
        "  r3 = r3 + rho*(w3 - z)\n",
        "  r4 = r4 + rho*(w4 - z)\n",
        "  r5 = r5 + rho*(w5 - z)\n",
        "\n"
      ],
      "execution_count": 1801,
      "outputs": []
    },
    {
      "cell_type": "code",
      "metadata": {
        "id": "9VFMpCWgrNXm"
      },
      "source": [
        "y1_hat = H1.dot(z)\n",
        "y2_hat = H2.dot(z)\n",
        "y3_hat = H3.dot(z)\n",
        "y4_hat = H4.dot(z)\n",
        "y5_hat = H5.dot(z)"
      ],
      "execution_count": 1802,
      "outputs": []
    },
    {
      "cell_type": "code",
      "metadata": {
        "id": "9awEUp4ofh_W"
      },
      "source": [
        "error1 = np.linalg.norm(y1_hat-ry1, 2)\n",
        "MSE1 = error1/206\n",
        "\n",
        "error2 = np.linalg.norm(y2_hat-ry2, 2)\n",
        "MSE2 = error2/206\n",
        "\n",
        "error3 = np.linalg.norm(y3_hat-ry3, 2)\n",
        "MSE3 = error3/206\n",
        "\n",
        "error4 = np.linalg.norm(y4_hat-ry4, 2)\n",
        "MSE4 = error4/206\n",
        "\n",
        "error5 = np.linalg.norm(y5_hat-ry5, 2)\n",
        "MSE5 = error5/206"
      ],
      "execution_count": 1803,
      "outputs": []
    },
    {
      "cell_type": "code",
      "metadata": {
        "colab": {
          "base_uri": "https://localhost:8080/"
        },
        "id": "jYC5CEazgCME",
        "outputId": "e5ec6c4e-05dd-42bc-e504-f738ef0bcec2"
      },
      "source": [
        "MSE = (MSE1 + MSE2 + MSE3 + MSE4 + MSE5)/5\n",
        "MSE"
      ],
      "execution_count": 1804,
      "outputs": [
        {
          "output_type": "execute_result",
          "data": {
            "text/plain": [
              "1.1834539709407097"
            ]
          },
          "metadata": {
            "tags": []
          },
          "execution_count": 1804
        }
      ]
    },
    {
      "cell_type": "code",
      "metadata": {
        "colab": {
          "base_uri": "https://localhost:8080/"
        },
        "id": "Fm_cSf7er6yb",
        "outputId": "f9088b98-8db6-461b-c190-440046aa2577"
      },
      "source": [
        "z"
      ],
      "execution_count": 1805,
      "outputs": [
        {
          "output_type": "execute_result",
          "data": {
            "text/plain": [
              "matrix([[ 0.00520067],\n",
              "        [ 0.004272  ],\n",
              "        [ 0.00496463],\n",
              "        [ 0.02806336],\n",
              "        [ 0.02938577],\n",
              "        [ 0.01693573],\n",
              "        [ 0.01513822],\n",
              "        [-0.01398594]])"
            ]
          },
          "metadata": {
            "tags": []
          },
          "execution_count": 1805
        }
      ]
    }
  ]
}